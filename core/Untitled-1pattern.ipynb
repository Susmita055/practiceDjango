{
 "cells": [
  {
   "cell_type": "code",
   "execution_count": 1,
   "metadata": {},
   "outputs": [
    {
     "name": "stdout",
     "output_type": "stream",
     "text": [
      "a\n",
      "aba\n",
      "abacaba\n",
      "abacabadabacaba\n",
      "abacabadabacabaeabacabadabacaba\n",
      "abacabadabacabaeabacabadabacabafabacabadabacabaeabacabadabacaba\n"
     ]
    }
   ],
   "source": [
    "def aba(num_chosen):\n",
    "    result_string = 'a'\n",
    "    current_character = 'a'\n",
    "    print(result_string)\n",
    "    for _ in range(num_chosen-1):\n",
    "        current_character = chr(ord(current_character)+1)\n",
    "        result_string = result_string + current_character + result_string\n",
    "        print(result_string)\n",
    "\n",
    "aba(6)"
   ]
  }
 ],
 "metadata": {
  "kernelspec": {
   "display_name": "Python 3.8.10 64-bit",
   "language": "python",
   "name": "python3"
  },
  "language_info": {
   "codemirror_mode": {
    "name": "ipython",
    "version": 3
   },
   "file_extension": ".py",
   "mimetype": "text/x-python",
   "name": "python",
   "nbconvert_exporter": "python",
   "pygments_lexer": "ipython3",
   "version": "3.8.10"
  },
  "orig_nbformat": 4,
  "vscode": {
   "interpreter": {
    "hash": "916dbcbb3f70747c44a77c7bcd40155683ae19c65e1c03b4aa3499c5328201f1"
   }
  }
 },
 "nbformat": 4,
 "nbformat_minor": 2
}
